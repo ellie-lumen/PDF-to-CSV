{
 "cells": [
  {
   "cell_type": "markdown",
   "metadata": {},
   "source": [
    "## Run this code to turn PDF tables into a CSV file.\n",
    "\n",
    "\n",
    "#### Execute code:  click on the block of code and press  \"Shift + Enter\"\n",
    "\n",
    "\n",
    "\n",
    "### 1. Edit pages that contain your table\n",
    "\n",
    "### 2. After executing the first block\n",
    "\n",
    "- Shift + right click on excel file with data \n",
    "- Select copy as path\n",
    "- Paste file path below"
   ]
  },
  {
   "cell_type": "code",
   "execution_count": null,
   "metadata": {},
   "outputs": [],
   "source": [
    "import tabula as tb\n",
    "import pandas as pd\n",
    "\n",
    "start_of_table_page = 1\n",
    "end_of_table_page = 4\n",
    "table_name = 'test table' # table will be saved under this name\n",
    "file_path = input(\"Enter File Path: \")"
   ]
  },
  {
   "cell_type": "code",
   "execution_count": null,
   "metadata": {},
   "outputs": [],
   "source": [
    "file_path = file_path.replace('\"\"'[:1], '') # necessary if user enters file path with input() fx\n",
    "read_pages = list(range(start_of_table_page, end_of_table_page))\n",
    "\n",
    "\n",
    "# 1: establish names\n",
    "\n",
    "try: \n",
    "    i = len(file_path)\n",
    "    name = \" \"\n",
    "    while (name[0] != \"\\\\\"):\n",
    "        name = file_path[i-1] + name\n",
    "        i -=1\n",
    "    name = name[:-2]      # 2 accounts for the space and \" at the end of \"name\"\n",
    "    root_dir = file_path[:-(len(name))] \n",
    "except:\n",
    "    print (\"Check the file path provided\")\n",
    "\n",
    "\n",
    "# 2: read a sample of the page to get column names\n",
    "\n",
    "# when you read a pdf you get a list of dataframes \n",
    "df_list_for_header = tb.read_pdf(file_path, pages = start_of_table_page) \n",
    "\n",
    "# concat list of dataframes from first page into one dataframe \n",
    "df_for_column_names = pd.concat(df_list_for_header)\n",
    "\n",
    "# create a list of column names (to be used later)\n",
    "column_names = list(df_for_column_names.columns) \n",
    "print(\"Column Names: \\n\", column_names)\n",
    "combined_df = pd.DataFrame(columns=column_names)\n",
    "\n",
    "\n",
    "\n",
    "# 3: read every page separately \n",
    "\n",
    "try:\n",
    "    p=start_of_table_page\n",
    "    while p <= (len(read_pages)+1): \n",
    "        list_from_one_page = tb.read_pdf(file_path, pages = p) \n",
    "        #list_from_one_page.insert(0, combined_df)\n",
    "        print(type(column_names))\n",
    "        temp_df = pd.concat(list_from_one_page)\n",
    "        \n",
    "        \n",
    "        if temp_df.empty:\n",
    "            print(\"Warning: Examine DataFrame from page {} in final CSV sheet\".format(p))\n",
    "            list_from_one_page = tb.read_pdf(file_path, pages = p)\n",
    "            temp_df = pd.concat(list_from_one_page)\n",
    "\n",
    "        print(\"\\n\\npage {}. Shape: {}\\n\".format(p, temp_df.shape), temp_df.iloc[:2])\n",
    "        combined_df = combined_df.append(temp_df, ignore_index=True)\n",
    "        p+=1\n",
    "\n",
    "    print(\"Your CSV file is here {}.\\n\\n{}\\n\\n.{}\".format(root_dir, combined_df.head(), combined_df.tail()))\n",
    "except ValueError:\n",
    "    print(\"Your end of table page may exceed the number of pages in your PDF.\")\n",
    "\n",
    "# 4: Save as CSV\n",
    "\n",
    "try:\n",
    "    combined_df.to_csv('{}\\{}.csv'.format(root_dir, table_name), index = False)\n",
    "\n",
    "except PermissionError:\n",
    "    print (\"Your CSV file may be open. Close it and try again.\")"
   ]
  },
  {
   "cell_type": "markdown",
   "metadata": {},
   "source": [
    "#### Dev notes\n",
    "- drop values that are NA if needed: `df.dropna(axis='index')`\n",
    "    - `(axis = 'index' or 0) ` drops rows which contain missing values)\n",
    "    - `(axis = 'columns' or 1)` drops columns which contain missing values)\n",
    "\n",
    "- [Reference](https://towardsdatascience.com/how-to-export-pandas-dataframe-to-csv-2038e43d9c03#:~:text=Exporting%20the%20DataFrame%20into%20a,a%20CSV%20format%20like%20string.&text=sep%3A%20Specify%20a%20custom%20delimiter,the%20default%20is%20a%20comma)\n",
    "\n",
    "- [Crop DPF](https://medium.com/analytics-vidhya/how-to-extract-multiple-tables-from-a-pdf-through-python-and-tabula-py-6f642a9ee673)"
   ]
  }
 ],
 "metadata": {
  "kernelspec": {
   "display_name": "Python 3",
   "language": "python",
   "name": "python3"
  },
  "language_info": {
   "codemirror_mode": {
    "name": "ipython",
    "version": 3
   },
   "file_extension": ".py",
   "mimetype": "text/x-python",
   "name": "python",
   "nbconvert_exporter": "python",
   "pygments_lexer": "ipython3",
   "version": "3.7.6"
  }
 },
 "nbformat": 4,
 "nbformat_minor": 4
}
