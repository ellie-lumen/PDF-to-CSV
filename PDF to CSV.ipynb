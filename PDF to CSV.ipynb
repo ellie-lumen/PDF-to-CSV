{
 "cells": [
  {
   "cell_type": "markdown",
   "metadata": {},
   "source": [
    "## Run this code to turn PDF tables into a CSV file.\n",
    "\n",
    "\n",
    "#### Execute code:  <font color=blue>click on the block of code </font> and press  <font color=blue>\"Shift + Enter\"</font>\n",
    "\n",
    "\n",
    "\n",
    "### 1. Edit pages that contain your table\n",
    "\n",
    "### 2. After executing the first block\n",
    "\n",
    "- Shift + right click on excel file with data \n",
    "- Select copy as path\n",
    "- Paste file path below"
   ]
  },
  {
   "cell_type": "code",
   "execution_count": 1,
   "metadata": {},
   "outputs": [
    {
     "name": "stdout",
     "output_type": "stream",
     "text": [
      "Enter File Path: \"D:\\Favorites\\1. Programming\\LearnPython\\PDF to CSV\\peptide list for conversion.pdf\"\n"
     ]
    }
   ],
   "source": [
    "import tabula as tb\n",
    "import pandas as pd\n",
    "\n",
    "start_of_table_page = 1\n",
    "end_of_table_page = 4\n",
    "table_name = 'test table' # table will be saved under this name\n",
    "file_path = input(\"Enter File Path: \")"
   ]
  },
  {
   "cell_type": "code",
   "execution_count": 19,
   "metadata": {},
   "outputs": [
    {
     "name": "stderr",
     "output_type": "stream",
     "text": [
      "Got stderr: Sep 30, 2020 10:17:10 PM org.apache.pdfbox.pdmodel.font.PDCIDFontType2 <init>\r\n",
      "INFO: OpenType Layout tables used in font Times New Roman are not implemented in PDFBox and will be ignored\r\n",
      "\n"
     ]
    },
    {
     "name": "stdout",
     "output_type": "stream",
     "text": [
      "Column Names: \n",
      " ['Peptide\\rID', 'Peptide name', 'Sequence', 'Number\\rof AA', 'CP-\\rresponse', 'Ref.']\n"
     ]
    },
    {
     "name": "stderr",
     "output_type": "stream",
     "text": [
      "Got stderr: Sep 30, 2020 10:17:12 PM org.apache.pdfbox.pdmodel.font.PDCIDFontType2 <init>\r\n",
      "INFO: OpenType Layout tables used in font Times New Roman are not implemented in PDFBox and will be ignored\r\n",
      "\n"
     ]
    },
    {
     "name": "stdout",
     "output_type": "stream",
     "text": [
      "<class 'list'>\n",
      "\n",
      "\n",
      "page 1. Shape: (55, 6)\n",
      "    Peptide\\rID Peptide name            Sequence  Number\\rof AA CP-\\rresponse  \\\n",
      "0            1         pVEC  LLIILRRRIRKQAHAHSK             18         1.318   \n",
      "1            2    Tat 48-60       GRKKRRQRRRPPQ             13         0.221   \n",
      "\n",
      "                  Ref.  \n",
      "0  17, 25, 27,\\r53, 66  \n",
      "1  17, 26, 34,\\r38, 66  \n"
     ]
    },
    {
     "name": "stderr",
     "output_type": "stream",
     "text": [
      "Got stderr: Sep 30, 2020 10:17:14 PM org.apache.pdfbox.pdmodel.font.PDCIDFontType2 <init>\r\n",
      "INFO: OpenType Layout tables used in font Times New Roman,Italic are not implemented in PDFBox and will be ignored\r\n",
      "Sep 30, 2020 10:17:14 PM org.apache.pdfbox.pdmodel.font.PDCIDFontType2 <init>\r\n",
      "INFO: OpenType Layout tables used in font Times New Roman are not implemented in PDFBox and will be ignored\r\n",
      "\n"
     ]
    },
    {
     "name": "stdout",
     "output_type": "stream",
     "text": [
      "<class 'list'>\n",
      "\n",
      "\n",
      "page 2. Shape: (61, 6)\n",
      "    56    MAP (XI)  LKTLATALTKLAKTLTTL  18  0.177  13\n",
      "0  57  MAP (XIII)  LKTLTETLKELTKTLTEL  18  0.052  13\n",
      "1  58    MAP (XV)    RQIKIWFQNRRMKWKK  16  0.104  13\n",
      "<class 'list'>\n",
      "\n",
      "\n",
      "page 3. Shape: (65, 6)\n",
      "    118  +aca-[Lys(Nys )-aca]4-Lys(Nys )+ +aca-[Lys(Nys )-aca]4-Lys(Nys )2+  \\\n",
      "0  119  +aca-[Lys(Nys )-aca]6-Lys(Nys )+  +aca-[Lys(Nys+)-aca]6-Lys(Nys )2   \n",
      "1  120                              M511                   FLGKKFKKYFLQLLK   \n",
      "\n",
      "    -  0.001  61  \n",
      "0   -  0.005  61  \n",
      "1  15  0.599  62  \n",
      "<class 'list'>\n",
      "\n",
      "\n",
      "page 4. Shape: (8, 6)\n",
      "    Unnamed: 0                                    Eng        Unnamed: 1  \\\n",
      "0       184.0                                    NaN  SQIKIWFQNKRAKIKK   \n",
      "1         NaN  (Engrailed-2 homeodomain third helix)               NaN   \n",
      "\n",
      "   Unnamed: 2 Unnamed: 3  Unnamed: 4  \n",
      "0        16.0      1.235        69.0  \n",
      "1         NaN        NaN         NaN  \n",
      "Your CSV file is here D:\\Favorites\\1. Programming\\LearnPython\\PDF to CSV\\.\n",
      "\n",
      "  Peptide\\rID       Peptide name            Sequence Number\\rof AA  \\\n",
      "0           1               pVEC  LLIILRRRIRKQAHAHSK            18   \n",
      "1           2          Tat 48-60       GRKKRRQRRRPPQ            13   \n",
      "2           3      APH-1 (85-98)       VFRFAYYKLLKKA            13   \n",
      "3           4    APH-1 (236-246)         LRSIQRSLLCK            11   \n",
      "4           5  Nicastrin (38-53)     RKIYIPLNKTAPCVR            15   \n",
      "\n",
      "  CP-\\rresponse                 Ref.  56 MAP (XI) LKTLATALTKLAKTLTTL   18  \\\n",
      "0         1.318  17, 25, 27,\\r53, 66 NaN      NaN                NaN  NaN   \n",
      "1         0.221  17, 26, 34,\\r38, 66 NaN      NaN                NaN  NaN   \n",
      "2         0.188                   26 NaN      NaN                NaN  NaN   \n",
      "3         0.039                   26 NaN      NaN                NaN  NaN   \n",
      "4         0.345                   26 NaN      NaN                NaN  NaN   \n",
      "\n",
      "   ... +aca-[Lys(Nys )-aca]4-Lys(Nys )2+    -  0.001   61 Unnamed: 0  Eng  \\\n",
      "0  ...                               NaN  NaN    NaN  NaN        NaN  NaN   \n",
      "1  ...                               NaN  NaN    NaN  NaN        NaN  NaN   \n",
      "2  ...                               NaN  NaN    NaN  NaN        NaN  NaN   \n",
      "3  ...                               NaN  NaN    NaN  NaN        NaN  NaN   \n",
      "4  ...                               NaN  NaN    NaN  NaN        NaN  NaN   \n",
      "\n",
      "  Unnamed: 1 Unnamed: 2  Unnamed: 3 Unnamed: 4  \n",
      "0        NaN        NaN         NaN        NaN  \n",
      "1        NaN        NaN         NaN        NaN  \n",
      "2        NaN        NaN         NaN        NaN  \n",
      "3        NaN        NaN         NaN        NaN  \n",
      "4        NaN        NaN         NaN        NaN  \n",
      "\n",
      "[5 rows x 24 columns]\n",
      "\n",
      ".    Peptide\\rID Peptide name Sequence Number\\rof AA CP-\\rresponse Ref.  56  \\\n",
      "184         NaN          NaN      NaN           NaN           NaN  NaN NaN   \n",
      "185         NaN          NaN      NaN           NaN           NaN  NaN NaN   \n",
      "186         NaN          NaN      NaN           NaN           NaN  NaN NaN   \n",
      "187         NaN          NaN      NaN           NaN           NaN  NaN NaN   \n",
      "188         NaN          NaN      NaN           NaN           NaN  NaN NaN   \n",
      "\n",
      "    MAP (XI) LKTLATALTKLAKTLTTL   18  ... +aca-[Lys(Nys )-aca]4-Lys(Nys )2+  \\\n",
      "184      NaN                NaN  NaN  ...                               NaN   \n",
      "185      NaN                NaN  NaN  ...                               NaN   \n",
      "186      NaN                NaN  NaN  ...                               NaN   \n",
      "187      NaN                NaN  NaN  ...                               NaN   \n",
      "188      NaN                NaN  NaN  ...                               NaN   \n",
      "\n",
      "       -  0.001   61 Unnamed: 0                                  Eng  \\\n",
      "184  NaN    NaN  NaN      185.0                                  NaN   \n",
      "185  NaN    NaN  NaN        NaN    (HoxA-13 homeodomain third helix)   \n",
      "186  NaN    NaN  NaN        NaN                          Kno ref. 69   \n",
      "187  NaN    NaN  NaN      186.0                                  NaN   \n",
      "188  NaN    NaN  NaN        NaN  (Knotted-1 homeodomain third helix)   \n",
      "\n",
      "           Unnamed: 1 Unnamed: 2  Unnamed: 3 Unnamed: 4  \n",
      "184  RQVTIWFQNRRVKEKK       16.0       0.500       69.0  \n",
      "185               NaN        NaN         NaN        NaN  \n",
      "186               NaN        NaN         NaN        NaN  \n",
      "187  KQINNWFINQRKRHWK       16.0    (11.118)       69.0  \n",
      "188               NaN        NaN         NaN        NaN  \n",
      "\n",
      "[5 rows x 24 columns]\n"
     ]
    }
   ],
   "source": [
    "file_path = file_path.replace('\"\"'[:1], '') # necessary if user enters file path with input() fx\n",
    "read_pages = list(range(start_of_table_page, end_of_table_page))\n",
    "\n",
    "\n",
    "# 1: establish names\n",
    "\n",
    "try: \n",
    "    i = len(file_path)\n",
    "    name = \" \"\n",
    "    while (name[0] != \"\\\\\"):\n",
    "        name = file_path[i-1] + name\n",
    "        i -=1\n",
    "    name = name[:-2]      # 2 accounts for the space and \" at the end of \"name\"\n",
    "    root_dir = file_path[:-(len(name))] \n",
    "except:\n",
    "    print (\"Check the file path provided\")\n",
    "\n",
    "\n",
    "# 2: read a sample of the page to get column names\n",
    "\n",
    "# when you read a pdf you get a list of dataframes \n",
    "df_list_for_header = tb.read_pdf(file_path, pages = start_of_table_page) \n",
    "\n",
    "# concat list of dataframes from first page into one dataframe \n",
    "df_for_column_names = pd.concat(df_list_for_header)\n",
    "\n",
    "# create a list of column names (to be used later)\n",
    "column_names = list(df_for_column_names.columns) \n",
    "print(\"Column Names: \\n\", column_names)\n",
    "combined_df = pd.DataFrame(columns=column_names)\n",
    "\n",
    "\n",
    "\n",
    "# 3: read every page separately \n",
    "\n",
    "try:\n",
    "    p=start_of_table_page\n",
    "    while p <= (len(read_pages)+1): \n",
    "        list_from_one_page = tb.read_pdf(file_path, pages = p) \n",
    "        #list_from_one_page.insert(0, combined_df)\n",
    "        print(type(column_names))\n",
    "        temp_df = pd.concat(list_from_one_page)\n",
    "        \n",
    "        \n",
    "        if temp_df.empty:\n",
    "            print(\"Warning: Examine DataFrame from page {} in final CSV sheet\".format(p))\n",
    "            list_from_one_page = tb.read_pdf(file_path, pages = p)\n",
    "            temp_df = pd.concat(list_from_one_page)\n",
    "\n",
    "        print(\"\\n\\npage {}. Shape: {}\\n\".format(p, temp_df.shape), temp_df.iloc[:2])\n",
    "        combined_df = combined_df.append(temp_df, ignore_index=True)\n",
    "        p+=1\n",
    "\n",
    "    print(\"Your CSV file is here {}.\\n\\n{}\\n\\n.{}\".format(root_dir, combined_df.head(), combined_df.tail()))\n",
    "except ValueError:\n",
    "    print(\"Your end of table page may exceed the number of pages in your PDF.\")\n",
    "\n",
    "# 4: Save as CSV\n",
    "\n",
    "try:\n",
    "    combined_df.to_csv('{}\\{}.csv'.format(root_dir, table_name), index = False)\n",
    "\n",
    "except PermissionError:\n",
    "    print (\"Your CSV file may be open. Close it and try again.\")"
   ]
  },
  {
   "cell_type": "markdown",
   "metadata": {},
   "source": [
    "#### Dev notes\n",
    "- drop values that are NA if needed: `df.dropna(axis='index')`\n",
    "    - `(axis = 'index' or 0) ` drops rows which contain missing values)\n",
    "    - `(axis = 'columns' or 1)` drops columns which contain missing values)\n",
    "\n",
    "- [Reference](https://towardsdatascience.com/how-to-export-pandas-dataframe-to-csv-2038e43d9c03#:~:text=Exporting%20the%20DataFrame%20into%20a,a%20CSV%20format%20like%20string.&text=sep%3A%20Specify%20a%20custom%20delimiter,the%20default%20is%20a%20comma)\n",
    "\n",
    "- [Crop DPF](https://medium.com/analytics-vidhya/how-to-extract-multiple-tables-from-a-pdf-through-python-and-tabula-py-6f642a9ee673)"
   ]
  }
 ],
 "metadata": {
  "kernelspec": {
   "display_name": "Python 3",
   "language": "python",
   "name": "python3"
  },
  "language_info": {
   "codemirror_mode": {
    "name": "ipython",
    "version": 3
   },
   "file_extension": ".py",
   "mimetype": "text/x-python",
   "name": "python",
   "nbconvert_exporter": "python",
   "pygments_lexer": "ipython3",
   "version": "3.7.6"
  }
 },
 "nbformat": 4,
 "nbformat_minor": 4
}
